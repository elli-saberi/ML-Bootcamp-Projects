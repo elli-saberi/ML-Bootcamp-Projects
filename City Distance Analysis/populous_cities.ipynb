{
 "cells": [
  {
   "cell_type": "code",
   "execution_count": 1,
   "metadata": {},
   "outputs": [],
   "source": [
    "import numpy as np\n",
    "import pandas as pd"
   ]
  },
  {
   "cell_type": "code",
   "execution_count": 6,
   "metadata": {},
   "outputs": [
    {
     "data": {
      "text/html": [
       "<div>\n",
       "<style scoped>\n",
       "    .dataframe tbody tr th:only-of-type {\n",
       "        vertical-align: middle;\n",
       "    }\n",
       "\n",
       "    .dataframe tbody tr th {\n",
       "        vertical-align: top;\n",
       "    }\n",
       "\n",
       "    .dataframe thead th {\n",
       "        text-align: right;\n",
       "    }\n",
       "</style>\n",
       "<table border=\"1\" class=\"dataframe\">\n",
       "  <thead>\n",
       "    <tr style=\"text-align: right;\">\n",
       "      <th></th>\n",
       "      <th>ville</th>\n",
       "      <th>ville_ascii</th>\n",
       "      <th>lat</th>\n",
       "      <th>lng</th>\n",
       "      <th>pays</th>\n",
       "      <th>iso2</th>\n",
       "      <th>iso3</th>\n",
       "      <th>admin_nom</th>\n",
       "      <th>capital</th>\n",
       "      <th>population</th>\n",
       "      <th>id</th>\n",
       "    </tr>\n",
       "  </thead>\n",
       "  <tbody>\n",
       "    <tr>\n",
       "      <th>0</th>\n",
       "      <td>A Coruña</td>\n",
       "      <td>A Coruna</td>\n",
       "      <td>43.3667</td>\n",
       "      <td>-8.3833</td>\n",
       "      <td>Spain</td>\n",
       "      <td>ES</td>\n",
       "      <td>ESP</td>\n",
       "      <td>Galicia</td>\n",
       "      <td>minor</td>\n",
       "      <td>245468.0</td>\n",
       "      <td>1.724417e+09</td>\n",
       "    </tr>\n",
       "    <tr>\n",
       "      <th>1</th>\n",
       "      <td>A Yun Pa</td>\n",
       "      <td>A Yun Pa</td>\n",
       "      <td>13.3939</td>\n",
       "      <td>108.4408</td>\n",
       "      <td>Vietnam</td>\n",
       "      <td>VN</td>\n",
       "      <td>VNM</td>\n",
       "      <td>Gia Lai</td>\n",
       "      <td>minor</td>\n",
       "      <td>53720.0</td>\n",
       "      <td>1.704946e+09</td>\n",
       "    </tr>\n",
       "    <tr>\n",
       "      <th>2</th>\n",
       "      <td>Aabenraa</td>\n",
       "      <td>Aabenraa</td>\n",
       "      <td>55.0444</td>\n",
       "      <td>9.4181</td>\n",
       "      <td>Denmark</td>\n",
       "      <td>DK</td>\n",
       "      <td>DNK</td>\n",
       "      <td>Syddanmark</td>\n",
       "      <td>minor</td>\n",
       "      <td>16401.0</td>\n",
       "      <td>1.208000e+09</td>\n",
       "    </tr>\n",
       "    <tr>\n",
       "      <th>3</th>\n",
       "      <td>Aachen</td>\n",
       "      <td>Aachen</td>\n",
       "      <td>50.7756</td>\n",
       "      <td>6.0836</td>\n",
       "      <td>Germany</td>\n",
       "      <td>DE</td>\n",
       "      <td>DEU</td>\n",
       "      <td>North Rhine-Westphalia</td>\n",
       "      <td>minor</td>\n",
       "      <td>249070.0</td>\n",
       "      <td>1.276806e+09</td>\n",
       "    </tr>\n",
       "    <tr>\n",
       "      <th>4</th>\n",
       "      <td>Aadorf</td>\n",
       "      <td>Aadorf</td>\n",
       "      <td>47.4939</td>\n",
       "      <td>8.8975</td>\n",
       "      <td>Switzerland</td>\n",
       "      <td>CH</td>\n",
       "      <td>CHE</td>\n",
       "      <td>Thurgau</td>\n",
       "      <td>NaN</td>\n",
       "      <td>9036.0</td>\n",
       "      <td>1.756023e+09</td>\n",
       "    </tr>\n",
       "  </tbody>\n",
       "</table>\n",
       "</div>"
      ],
      "text/plain": [
       "      ville ville_ascii      lat       lng         pays iso2 iso3  \\\n",
       "0  A Coruña    A Coruna  43.3667   -8.3833        Spain   ES  ESP   \n",
       "1  A Yun Pa    A Yun Pa  13.3939  108.4408      Vietnam   VN  VNM   \n",
       "2  Aabenraa    Aabenraa  55.0444    9.4181      Denmark   DK  DNK   \n",
       "3    Aachen      Aachen  50.7756    6.0836      Germany   DE  DEU   \n",
       "4    Aadorf      Aadorf  47.4939    8.8975  Switzerland   CH  CHE   \n",
       "\n",
       "                admin_nom capital  population            id  \n",
       "0                 Galicia   minor    245468.0  1.724417e+09  \n",
       "1                 Gia Lai   minor     53720.0  1.704946e+09  \n",
       "2              Syddanmark   minor     16401.0  1.208000e+09  \n",
       "3  North Rhine-Westphalia   minor    249070.0  1.276806e+09  \n",
       "4                 Thurgau     NaN      9036.0  1.756023e+09  "
      ]
     },
     "execution_count": 6,
     "metadata": {},
     "output_type": "execute_result"
    }
   ],
   "source": [
    "# load data\n",
    "df = pd.read_excel('worldcities.xlsx')\n",
    "df.head()"
   ]
  },
  {
   "cell_type": "code",
   "execution_count": 7,
   "metadata": {},
   "outputs": [
    {
     "data": {
      "text/html": [
       "<div>\n",
       "<style scoped>\n",
       "    .dataframe tbody tr th:only-of-type {\n",
       "        vertical-align: middle;\n",
       "    }\n",
       "\n",
       "    .dataframe tbody tr th {\n",
       "        vertical-align: top;\n",
       "    }\n",
       "\n",
       "    .dataframe thead th {\n",
       "        text-align: right;\n",
       "    }\n",
       "</style>\n",
       "<table border=\"1\" class=\"dataframe\">\n",
       "  <thead>\n",
       "    <tr style=\"text-align: right;\">\n",
       "      <th></th>\n",
       "      <th>city</th>\n",
       "      <th>lat</th>\n",
       "      <th>lng</th>\n",
       "      <th>country</th>\n",
       "      <th>iso2</th>\n",
       "      <th>iso3</th>\n",
       "      <th>population</th>\n",
       "    </tr>\n",
       "  </thead>\n",
       "  <tbody>\n",
       "    <tr>\n",
       "      <th>0</th>\n",
       "      <td>A Coruña</td>\n",
       "      <td>43.3667</td>\n",
       "      <td>-8.3833</td>\n",
       "      <td>Spain</td>\n",
       "      <td>ES</td>\n",
       "      <td>ESP</td>\n",
       "      <td>245468.0</td>\n",
       "    </tr>\n",
       "    <tr>\n",
       "      <th>1</th>\n",
       "      <td>A Yun Pa</td>\n",
       "      <td>13.3939</td>\n",
       "      <td>108.4408</td>\n",
       "      <td>Vietnam</td>\n",
       "      <td>VN</td>\n",
       "      <td>VNM</td>\n",
       "      <td>53720.0</td>\n",
       "    </tr>\n",
       "    <tr>\n",
       "      <th>2</th>\n",
       "      <td>Aabenraa</td>\n",
       "      <td>55.0444</td>\n",
       "      <td>9.4181</td>\n",
       "      <td>Denmark</td>\n",
       "      <td>DK</td>\n",
       "      <td>DNK</td>\n",
       "      <td>16401.0</td>\n",
       "    </tr>\n",
       "    <tr>\n",
       "      <th>3</th>\n",
       "      <td>Aachen</td>\n",
       "      <td>50.7756</td>\n",
       "      <td>6.0836</td>\n",
       "      <td>Germany</td>\n",
       "      <td>DE</td>\n",
       "      <td>DEU</td>\n",
       "      <td>249070.0</td>\n",
       "    </tr>\n",
       "    <tr>\n",
       "      <th>4</th>\n",
       "      <td>Aadorf</td>\n",
       "      <td>47.4939</td>\n",
       "      <td>8.8975</td>\n",
       "      <td>Switzerland</td>\n",
       "      <td>CH</td>\n",
       "      <td>CHE</td>\n",
       "      <td>9036.0</td>\n",
       "    </tr>\n",
       "  </tbody>\n",
       "</table>\n",
       "</div>"
      ],
      "text/plain": [
       "       city      lat       lng      country iso2 iso3  population\n",
       "0  A Coruña  43.3667   -8.3833        Spain   ES  ESP    245468.0\n",
       "1  A Yun Pa  13.3939  108.4408      Vietnam   VN  VNM     53720.0\n",
       "2  Aabenraa  55.0444    9.4181      Denmark   DK  DNK     16401.0\n",
       "3    Aachen  50.7756    6.0836      Germany   DE  DEU    249070.0\n",
       "4    Aadorf  47.4939    8.8975  Switzerland   CH  CHE      9036.0"
      ]
     },
     "execution_count": 7,
     "metadata": {},
     "output_type": "execute_result"
    }
   ],
   "source": [
    "# drop and rename\n",
    "df = df.drop(['ville_ascii', 'capital', 'id', 'admin_nom'], axis=1)\n",
    "df.rename({\n",
    "    'ville': 'city',\n",
    "    'pays': 'country'\n",
    "}, axis=1, inplace=True)\n",
    "df.head()"
   ]
  },
  {
   "cell_type": "code",
   "execution_count": 8,
   "metadata": {},
   "outputs": [
    {
     "data": {
      "text/plain": [
       "(776, 7)"
      ]
     },
     "execution_count": 8,
     "metadata": {},
     "output_type": "execute_result"
    }
   ],
   "source": [
    "# filter data\n",
    "df = df[df['population'] >= 1000000]\n",
    "df.shape"
   ]
  },
  {
   "cell_type": "code",
   "execution_count": 9,
   "metadata": {},
   "outputs": [
    {
     "data": {
      "text/plain": [
       "city           object\n",
       "lat           float64\n",
       "lng           float64\n",
       "country        object\n",
       "iso2           object\n",
       "iso3           object\n",
       "population      int32\n",
       "dtype: object"
      ]
     },
     "execution_count": 9,
     "metadata": {},
     "output_type": "execute_result"
    }
   ],
   "source": [
    "# change type population\n",
    "df['population'] = df.population.astype('int32')\n",
    "df.dtypes"
   ]
  },
  {
   "cell_type": "code",
   "execution_count": 10,
   "metadata": {},
   "outputs": [],
   "source": [
    "first_df = df.copy()"
   ]
  },
  {
   "cell_type": "code",
   "execution_count": 11,
   "metadata": {},
   "outputs": [
    {
     "data": {
      "text/plain": [
       "(767, 7)"
      ]
     },
     "execution_count": 11,
     "metadata": {},
     "output_type": "execute_result"
    }
   ],
   "source": [
    "# remove duplicated and missed values\n",
    "df = df.drop_duplicates()\n",
    "df.dropna(thresh=6, inplace=True)\n",
    "df.shape"
   ]
  },
  {
   "cell_type": "code",
   "execution_count": 12,
   "metadata": {},
   "outputs": [
    {
     "name": "stdout",
     "output_type": "stream",
     "text": [
      "number of missings in lat & lng:  3\n"
     ]
    }
   ],
   "source": [
    "print('number of missings in lat & lng: ', np.logical_or(df.lat.isna(), df.lng.isna()).sum())"
   ]
  },
  {
   "cell_type": "code",
   "execution_count": 14,
   "metadata": {},
   "outputs": [],
   "source": [
    "# fill missing values of 'lat' and 'lng' columns\n",
    "for coordinate in ['lat', 'lng']:\n",
    "    for id, ser in df[df[coordinate].isna()].iterrows():\n",
    "        df.loc[id, coordinate] = df[df['country'] == ser['country']][coordinate].mean()"
   ]
  },
  {
   "cell_type": "code",
   "execution_count": 15,
   "metadata": {},
   "outputs": [
    {
     "name": "stdout",
     "output_type": "stream",
     "text": [
      "number of missings in lat & lng after filling:  0\n"
     ]
    }
   ],
   "source": [
    "print('number of missings in lat & lng after filling: ', np.logical_or(df.lat.isna(), df.lng.isna()).sum())"
   ]
  },
  {
   "cell_type": "code",
   "execution_count": 16,
   "metadata": {},
   "outputs": [
    {
     "data": {
      "text/html": [
       "<div>\n",
       "<style scoped>\n",
       "    .dataframe tbody tr th:only-of-type {\n",
       "        vertical-align: middle;\n",
       "    }\n",
       "\n",
       "    .dataframe tbody tr th {\n",
       "        vertical-align: top;\n",
       "    }\n",
       "\n",
       "    .dataframe thead th {\n",
       "        text-align: right;\n",
       "    }\n",
       "</style>\n",
       "<table border=\"1\" class=\"dataframe\">\n",
       "  <thead>\n",
       "    <tr style=\"text-align: right;\">\n",
       "      <th></th>\n",
       "      <th>city</th>\n",
       "      <th>lat</th>\n",
       "      <th>lng</th>\n",
       "      <th>country</th>\n",
       "      <th>iso2</th>\n",
       "      <th>iso3</th>\n",
       "      <th>population</th>\n",
       "    </tr>\n",
       "  </thead>\n",
       "  <tbody>\n",
       "    <tr>\n",
       "      <th>39301</th>\n",
       "      <td>Tehran</td>\n",
       "      <td>35.6892</td>\n",
       "      <td>51.3889</td>\n",
       "      <td>Iran</td>\n",
       "      <td>IR</td>\n",
       "      <td>IRN</td>\n",
       "      <td>14148000</td>\n",
       "    </tr>\n",
       "  </tbody>\n",
       "</table>\n",
       "</div>"
      ],
      "text/plain": [
       "         city      lat      lng country iso2 iso3  population\n",
       "39301  Tehran  35.6892  51.3889    Iran   IR  IRN    14148000"
      ]
     },
     "execution_count": 16,
     "metadata": {},
     "output_type": "execute_result"
    }
   ],
   "source": [
    "df[df['city'] == 'Tehran']"
   ]
  },
  {
   "cell_type": "code",
   "execution_count": 17,
   "metadata": {},
   "outputs": [],
   "source": [
    "Tehran_lat = 35.6892\n",
    "Tehran_lng = 51.3889\n",
    "\n",
    "def haversine_from_teh(lat, lng):\n",
    "    lamb1 = np.radians(Tehran_lng)\n",
    "    lamb2 = np.radians(lng)\n",
    "    phi1 = np.radians(Tehran_lat)\n",
    "    phi2 = np.radians(lat)\n",
    "    r = 6371\n",
    "    a = np.sin((phi2 - phi1) / 2) ** 2 + np.cos(phi1) * np.cos(phi2) * np.sin((lamb2 - lamb1) / 2) ** 2\n",
    "    d = 2 * r * np.atan2(np.sqrt(a), np.sqrt(1 - a))\n",
    "    return d"
   ]
  },
  {
   "cell_type": "code",
   "execution_count": 18,
   "metadata": {},
   "outputs": [
    {
     "data": {
      "text/html": [
       "<div>\n",
       "<style scoped>\n",
       "    .dataframe tbody tr th:only-of-type {\n",
       "        vertical-align: middle;\n",
       "    }\n",
       "\n",
       "    .dataframe tbody tr th {\n",
       "        vertical-align: top;\n",
       "    }\n",
       "\n",
       "    .dataframe thead th {\n",
       "        text-align: right;\n",
       "    }\n",
       "</style>\n",
       "<table border=\"1\" class=\"dataframe\">\n",
       "  <thead>\n",
       "    <tr style=\"text-align: right;\">\n",
       "      <th></th>\n",
       "      <th>city</th>\n",
       "      <th>lat</th>\n",
       "      <th>lng</th>\n",
       "      <th>country</th>\n",
       "      <th>iso2</th>\n",
       "      <th>iso3</th>\n",
       "      <th>population</th>\n",
       "      <th>distance_from_tehran</th>\n",
       "    </tr>\n",
       "  </thead>\n",
       "  <tbody>\n",
       "    <tr>\n",
       "      <th>19</th>\n",
       "      <td>Aba</td>\n",
       "      <td>5.1167</td>\n",
       "      <td>7.3667</td>\n",
       "      <td>Nigeria</td>\n",
       "      <td>NG</td>\n",
       "      <td>NGA</td>\n",
       "      <td>1530000</td>\n",
       "      <td>5634.737243</td>\n",
       "    </tr>\n",
       "    <tr>\n",
       "      <th>83</th>\n",
       "      <td>Abidjan</td>\n",
       "      <td>5.3167</td>\n",
       "      <td>-4.0333</td>\n",
       "      <td>Côte d'Ivoire</td>\n",
       "      <td>CI</td>\n",
       "      <td>CIV</td>\n",
       "      <td>4980000</td>\n",
       "      <td>6575.533770</td>\n",
       "    </tr>\n",
       "    <tr>\n",
       "      <th>121</th>\n",
       "      <td>Abu Dhabi</td>\n",
       "      <td>24.4667</td>\n",
       "      <td>54.3667</td>\n",
       "      <td>United Arab Emirates</td>\n",
       "      <td>AE</td>\n",
       "      <td>ARE</td>\n",
       "      <td>1483000</td>\n",
       "      <td>1280.150009</td>\n",
       "    </tr>\n",
       "    <tr>\n",
       "      <th>131</th>\n",
       "      <td>Abuja</td>\n",
       "      <td>9.0667</td>\n",
       "      <td>7.4833</td>\n",
       "      <td>Nigeria</td>\n",
       "      <td>NG</td>\n",
       "      <td>NGA</td>\n",
       "      <td>3770000</td>\n",
       "      <td>5331.673578</td>\n",
       "    </tr>\n",
       "    <tr>\n",
       "      <th>169</th>\n",
       "      <td>Accra</td>\n",
       "      <td>5.5500</td>\n",
       "      <td>-0.2000</td>\n",
       "      <td>Ghana</td>\n",
       "      <td>GH</td>\n",
       "      <td>GHA</td>\n",
       "      <td>2388000</td>\n",
       "      <td>6230.918394</td>\n",
       "    </tr>\n",
       "  </tbody>\n",
       "</table>\n",
       "</div>"
      ],
      "text/plain": [
       "          city      lat      lng               country iso2 iso3  population  \\\n",
       "19         Aba   5.1167   7.3667               Nigeria   NG  NGA     1530000   \n",
       "83     Abidjan   5.3167  -4.0333         Côte d'Ivoire   CI  CIV     4980000   \n",
       "121  Abu Dhabi  24.4667  54.3667  United Arab Emirates   AE  ARE     1483000   \n",
       "131      Abuja   9.0667   7.4833               Nigeria   NG  NGA     3770000   \n",
       "169      Accra   5.5500  -0.2000                 Ghana   GH  GHA     2388000   \n",
       "\n",
       "     distance_from_tehran  \n",
       "19            5634.737243  \n",
       "83            6575.533770  \n",
       "121           1280.150009  \n",
       "131           5331.673578  \n",
       "169           6230.918394  "
      ]
     },
     "execution_count": 18,
     "metadata": {},
     "output_type": "execute_result"
    }
   ],
   "source": [
    "# create distance_from_tehran column\n",
    "df['distance_from_tehran'] = df.apply(lambda row: haversine_from_teh(row.lat, row.lng), axis=1)\n",
    "df.head()"
   ]
  },
  {
   "cell_type": "code",
   "execution_count": 19,
   "metadata": {},
   "outputs": [],
   "source": [
    "# sort and save dataframe df \n",
    "df.sort_values(by=['city', 'lat'], ascending=[True, False], ignore_index=True).to_csv('distances.csv')"
   ]
  },
  {
   "cell_type": "code",
   "execution_count": 20,
   "metadata": {},
   "outputs": [],
   "source": [
    "# sort and save dataframe first_df\n",
    "first_df.sort_values(by=['city', 'lat'], ascending=[True, False], ignore_index=True).to_csv('cities.csv')"
   ]
  },
  {
   "cell_type": "code",
   "execution_count": null,
   "metadata": {},
   "outputs": [],
   "source": [
    "import zlib\n",
    "import zipfile\n",
    "\n",
    "def compress(file_names):\n",
    "    print(\"File Paths:\")\n",
    "    print(file_names)\n",
    "    compression = zipfile.ZIP_DEFLATED\n",
    "    with zipfile.ZipFile(\"result.zip\", mode=\"w\") as zf:\n",
    "        for file_name in file_names:\n",
    "            zf.write('./' + file_name, file_name, compress_type=compression)\n",
    "\n",
    "file_names = ['populous_cities.ipynb' , 'cities.csv', 'distances.csv']\n",
    "\n",
    "compress(file_names)"
   ]
  }
 ],
 "metadata": {
  "kernelspec": {
   "display_name": "quera",
   "language": "python",
   "name": "python3"
  },
  "language_info": {
   "codemirror_mode": {
    "name": "ipython",
    "version": 3
   },
   "file_extension": ".py",
   "mimetype": "text/x-python",
   "name": "python",
   "nbconvert_exporter": "python",
   "pygments_lexer": "ipython3",
   "version": "3.11.11"
  },
  "orig_nbformat": 4
 },
 "nbformat": 4,
 "nbformat_minor": 2
}
